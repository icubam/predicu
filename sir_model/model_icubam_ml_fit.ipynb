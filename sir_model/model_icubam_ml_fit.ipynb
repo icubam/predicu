{
 "cells": [
  {
   "cell_type": "markdown",
   "metadata": {},
   "source": [
    "**`ICUBAM`: ICU Bed Availability Monitoring and analysis in the *Grand Est région* of France during the COVID-19 epidemic.**\n",
    "\n",
    "https://doi.org/10.1101/2020.05.18.20091264\n",
    "\n",
    "Python notebook for the sir-like modeling (see Section IV.1 of the main paper).\n",
    "\n",
    "(i) compute model, fit to the data, and save best parameters found via maximum likelihood"
   ]
  },
  {
   "cell_type": "code",
   "execution_count": 1,
   "metadata": {},
   "outputs": [],
   "source": [
    "import numpy as np\n",
    "import pandas as pd\n",
    "import os.path as op\n",
    "from scipy.optimize import minimize\n",
    "from collections import namedtuple\n",
    "import model_icubam as micu\n",
    "\n",
    "np.random.seed(13)"
   ]
  },
  {
   "cell_type": "code",
   "execution_count": 2,
   "metadata": {},
   "outputs": [],
   "source": [
    "data_pop = pd.read_csv(op.join('data', 'pop_dep_2020.csv'), delimiter='\\t')\n",
    "\n",
    "#Fig. 17 (left) is realized using first_date = '2020-03-19' and last_date = '2020-04-29'.\n",
    "#Fig. 11 and Fig. 17 (right) are realized using first_date = '2020-03-19' and last_date = '2020-04-27'.\n",
    "first_date = '2020-03-19'\n",
    "last_date = '2020-04-27'\n",
    "\n",
    "data = pd.read_csv(op.join(micu.data_path, 'all_bedcounts_2020-05-04_11h02.csv'), index_col=0)              \n",
    "data = data.groupby(['date', 'department']).sum().reset_index()\n",
    "data = data[data.date >= first_date]\n",
    "data = data[data.date <= last_date]"
   ]
  },
  {
   "cell_type": "code",
   "execution_count": 3,
   "metadata": {},
   "outputs": [],
   "source": [
    "sites = ['Ardennes', 'Aube', 'Bas-Rhin', 'Haut-Rhin',\n",
    "       'Marne', 'Meurthe-et-Moselle', 'Meuse', 'Moselle', 'Vosges']\n",
    "n_sites = len(sites)\n",
    "\n",
    "depname2depid = {'Ardennes':8, 'Aube':10, 'Marne':51, 'Haute-Marne':52,\n",
    "                 'Meurthe-et-Moselle':54, 'Meuse':55, 'Moselle':57, 'Bas-Rhin':67,\n",
    "                 'Haut-Rhin':68, 'Vosges':88}"
   ]
  },
  {
   "cell_type": "code",
   "execution_count": 4,
   "metadata": {},
   "outputs": [],
   "source": [
    "micu.make_dir(micu.fig_path)\n",
    "micu.make_dir(micu.model_path)"
   ]
  },
  {
   "cell_type": "code",
   "execution_count": 5,
   "metadata": {},
   "outputs": [],
   "source": [
    "# modeling"
   ]
  },
  {
   "cell_type": "code",
   "execution_count": 6,
   "metadata": {},
   "outputs": [],
   "source": [
    "def compute_llh(data_obs, data_hat):\n",
    "    cobs, xobs = data_obs\n",
    "    chat, xhat = data_hat  \n",
    "    llh = -(np.sum(np.power(cobs-chat, 2))\n",
    "           + np.sum(np.power(xobs-xhat, 2)))\n",
    "    return llh"
   ]
  },
  {
   "cell_type": "code",
   "execution_count": 7,
   "metadata": {},
   "outputs": [],
   "source": [
    "def evaluate_estimation(fun_model, pop, params_init, data_obs):\n",
    "    n_days = len(data_obs[0])\n",
    "    data_hat = fun_model(pop, params_init, n_days)\n",
    "    return -compute_llh(data_obs, data_hat)"
   ]
  },
  {
   "cell_type": "code",
   "execution_count": 8,
   "metadata": {},
   "outputs": [],
   "source": [
    "def fit_model(fun_model, data, sites, params_init, bounds):\n",
    "    params_hat = []\n",
    "    llh = []\n",
    "    for dep in sites:\n",
    "        condition = data.department==dep        \n",
    "        pop = data_pop[data_pop.dep=='{}'.format(depname2depid[dep])]['pop'].values[0]\n",
    "        n_days = data[condition].date.shape[0]\n",
    "        data_obs = (data[condition]['n_covid_occ'].values,\n",
    "                    data[condition]['n_covid_deaths'].values\n",
    "                    +data[condition]['n_covid_healed'].values)\n",
    "        optim_fun = lambda x: evaluate_estimation(fun_model, pop, x, data_obs)\n",
    "        optim_results = minimize(fun=optim_fun, x0=params_init, bounds=bounds)\n",
    "        params_hat.append(optim_results.x)\n",
    "        llh.append(-optim_results.fun)\n",
    "    return np.array(params_hat), np.array(llh)"
   ]
  },
  {
   "cell_type": "code",
   "execution_count": 9,
   "metadata": {},
   "outputs": [],
   "source": [
    "Params = namedtuple('Params', 'n_days_pre alpha_e beta wei wiout wic wcc wcx')\n",
    "Bounds = namedtuple('Bounds', 'n_days_pre alpha_e beta wei wiout wic wcc wcx')\n",
    "\n",
    "compute_model = micu.compute_model_seir"
   ]
  },
  {
   "cell_type": "code",
   "execution_count": 10,
   "metadata": {},
   "outputs": [],
   "source": [
    "n_days_pre_rg = np.arange(0, 25)\n",
    "\n",
    "llh_n_days_pre = []\n",
    "params_hat_n_days_pre = []\n",
    "for n_days_pre in n_days_pre_rg:\n",
    "    params_init = Params(n_days_pre=n_days_pre, alpha_e=1e-5, beta=0.01, \n",
    "                         wei=0.1, wiout=0.2, wic=0.1, wcc=0.1, wcx=0.5)\n",
    "    bounds = Bounds(n_days_pre=(n_days_pre, n_days_pre), alpha_e=(0, 1), beta=(0, 1),\n",
    "                    wei=(0, 1), wiout=(0, 1), wic=(0, 1), wcc=(0, 1), wcx=(0, 1))\n",
    "    \n",
    "    params_hat, llh = fit_model(compute_model, data, sites, params_init, bounds)\n",
    "    llh_n_days_pre.append(llh)\n",
    "    params_hat_n_days_pre.append(params_hat)\n",
    "\n",
    "llh_n_days_pre = np.array(llh_n_days_pre)\n",
    "params_hat_n_days_pre = np.array(params_hat_n_days_pre)\n",
    "\n",
    "params_hat = []\n",
    "for k, dep in enumerate(sites):\n",
    "    ind_best = np.argmax(llh_n_days_pre[:,k])\n",
    "    params_hat.append(params_hat_n_days_pre[ind_best, k, :])\n",
    "params_hat = np.array(params_hat)"
   ]
  },
  {
   "cell_type": "code",
   "execution_count": 11,
   "metadata": {},
   "outputs": [],
   "source": [
    "params_name = list(params_init._asdict().keys())\n",
    "\n",
    "df_param = pd.DataFrame([dict([(param, params_hat[k,i]) for i, param in enumerate(params_name)] + [('dep',sites[k])]) \n",
    "              for k in range(n_sites)])\n",
    "\n",
    "df_param.to_csv(op.join(micu.model_path, 'params_hat_{}.csv'.format(last_date)))"
   ]
  }
 ],
 "metadata": {
  "anaconda-cloud": {},
  "kernelspec": {
   "display_name": "Python 3",
   "language": "python",
   "name": "python3"
  },
  "language_info": {
   "codemirror_mode": {
    "name": "ipython",
    "version": 3
   },
   "file_extension": ".py",
   "mimetype": "text/x-python",
   "name": "python",
   "nbconvert_exporter": "python",
   "pygments_lexer": "ipython3",
   "version": "3.7.6"
  }
 },
 "nbformat": 4,
 "nbformat_minor": 1
}
