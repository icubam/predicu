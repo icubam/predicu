{
 "cells": [
  {
   "cell_type": "markdown",
   "metadata": {},
   "source": [
    "**`ICUBAM`: ICU Bed Availability Monitoring and analysis in the *Grand Est région* of France during the COVID-19 epidemic.**\n",
    "\n",
    "https://doi.org/10.1101/2020.05.18.20091264\n",
    "\n",
    "Python notebook for the sir-like modeling (see Section IV.1 of the main paper).\n",
    "\n",
    "(iii) compute and save samples from the posterior distribution P(parameters|data)"
   ]
  },
  {
   "cell_type": "code",
   "execution_count": 1,
   "metadata": {},
   "outputs": [],
   "source": [
    "import numpy as np\n",
    "import pandas as pd\n",
    "import os.path as op\n",
    "\n",
    "import pymc3 as pm \n",
    "from theano.compile.ops import as_op\n",
    "import theano.tensor as T\n",
    "\n",
    "from collections import namedtuple\n",
    "\n",
    "import model_icubam as micu\n",
    "\n",
    "np.random.seed(13)"
   ]
  },
  {
   "cell_type": "code",
   "execution_count": 2,
   "metadata": {},
   "outputs": [],
   "source": [
    "data_pop = pd.read_csv(op.join('data', 'pop_dep_2020.csv'), delimiter='\\t')\n",
    "\n",
    "#Fig. 11 and Fig. 17 (right) are realized using first_date = '2020-03-19' and last_date = '2020-04-27'.\n",
    "first_date = '2020-03-19'\n",
    "last_date = '2020-04-27'\n",
    "\n",
    "data = pd.read_csv(op.join('data', 'all_bedcounts_2020-05-04_11h02.csv'), index_col=0)              \n",
    "data = data.groupby(['date', 'department']).sum().reset_index()\n",
    "data = data[data.date >= first_date]\n",
    "data = data[data.date <= last_date]"
   ]
  },
  {
   "cell_type": "code",
   "execution_count": 3,
   "metadata": {},
   "outputs": [],
   "source": [
    "df_params_hat = pd.read_csv(op.join(micu.model_path, 'params_hat_{}.csv'.format(last_date)), index_col=0)              \n",
    "sites = df_params_hat.dep.values\n",
    "params_hat = df_params_hat[[col for col in df_params_hat.columns if not col.startswith('dep')]].values\n",
    "\n",
    "n_sites = len(sites)\n",
    "\n",
    "depname2depid = {'Ardennes':8, 'Aube':10, 'Marne':51, 'Haute-Marne':52,\n",
    "                 'Meurthe-et-Moselle':54, 'Meuse':55, 'Moselle':57, 'Bas-Rhin':67,\n",
    "                 'Haut-Rhin':68, 'Vosges':88}"
   ]
  },
  {
   "cell_type": "code",
   "execution_count": 4,
   "metadata": {},
   "outputs": [],
   "source": [
    "micu.make_dir(op.join(micu.model_path, 'samples'))\n",
    "\n",
    "compute_model = micu.compute_model_seir"
   ]
  },
  {
   "cell_type": "code",
   "execution_count": 5,
   "metadata": {},
   "outputs": [],
   "source": [
    "draws = 2500\n",
    "chains = 4\n",
    "tune = 1000"
   ]
  },
  {
   "cell_type": "code",
   "execution_count": 6,
   "metadata": {},
   "outputs": [],
   "source": [
    "def get_samples(params_star, icu_data, exit_data, sigma, pop):\n",
    "    n_days = icu_data.size\n",
    "    \n",
    "    @as_op(itypes=[T.lscalar, T.dscalar, T.dscalar, T.dscalar, \n",
    "                   T.dscalar, T.dscalar, T.dscalar, T.dscalar],\n",
    "           otypes=[T.dvector, T.dvector])\n",
    "    def compute_model_pm(n_days_pre, alpha_e, beta, wei, wiout, wic, wcc, wcx):\n",
    "        params = [n_days_pre, alpha_e, beta, wei, wiout, wic, wcc, wcx]\n",
    "        c, x = compute_model(pop, params, n_days)\n",
    "        return c, x\n",
    "\n",
    "    with pm.Model() as model:\n",
    "        n_days_pre = T.as_tensor_variable(np.int64(params_star[0]))\n",
    "        alpha_e = pm.Uniform('alpha_e', 0.0, 1.0)\n",
    "        beta = pm.Uniform('beta', 0.0, 1.0)\n",
    "        wei = pm.Uniform('wei', 0.0, 1.0)\n",
    "        wiout = pm.Uniform('wiout', 0.0, 1.0)\n",
    "        wic = pm.Uniform('wic', 0.0, 1.0)\n",
    "        wcc = pm.Uniform('wcc', 0.0, 1.0)\n",
    "        wcx = pm.Uniform('wcx', 0.0, 1.0)\n",
    "\n",
    "        c, x = compute_model_pm(n_days_pre, alpha_e, beta, wei, wiout, wic, wcc, wcx)\n",
    "\n",
    "        icu = pm.Normal('icu', mu=c, sigma=sigma, \n",
    "                        observed=icu_data)\n",
    "        exit = pm.Normal('out', mu=x, sigma=sigma, \n",
    "                        observed=exit_data)\n",
    "        \n",
    "        step = pm.Slice([alpha_e, beta, wei, wiout, wic, wcc, wcx])\n",
    "        start = {'alpha_e': params_star[1], \n",
    "         'beta': params_star[2], \n",
    "         'wei': params_star[3], \n",
    "         'wiout': params_star[4], \n",
    "         'wic': params_star[5], \n",
    "         'wcc': params_star[6], \n",
    "         'wcx': params_star[7]}\n",
    "\n",
    "        trace = pm.sample(draws=draws, start=start, tune=tune, chains=chains,\n",
    "                          step=step, model=model)\n",
    "        \n",
    "        df_trace = pm.trace_to_dataframe(trace)\n",
    "        logp = model.logp\n",
    "        samples_logp = np.array([logp(trace.point(i,chain=c)) for c in trace.chains for i in range(len(trace))])\n",
    "        df_trace['logp'] = samples_logp\n",
    "    return df_trace"
   ]
  },
  {
   "cell_type": "code",
   "execution_count": 7,
   "metadata": {},
   "outputs": [
    {
     "name": "stdout",
     "output_type": "stream",
     "text": [
      "********** Ardennes **********\n"
     ]
    },
    {
     "name": "stderr",
     "output_type": "stream",
     "text": [
      "Multiprocess sampling (4 chains in 4 jobs)\n",
      "CompoundStep\n",
      ">Slice: [wcx]\n",
      ">Slice: [wcc]\n",
      ">Slice: [wic]\n",
      ">Slice: [wiout]\n",
      ">Slice: [wei]\n",
      ">Slice: [beta]\n",
      ">Slice: [alpha_e]\n",
      "Sampling 4 chains, 0 divergences: 100%|██████████| 14000/14000 [02:04<00:00, 112.86draws/s]\n",
      "The rhat statistic is larger than 1.4 for some parameters. The sampler did not converge.\n",
      "The estimated number of effective samples is smaller than 200 for some parameters.\n"
     ]
    },
    {
     "name": "stdout",
     "output_type": "stream",
     "text": [
      "********** Aube **********\n"
     ]
    },
    {
     "name": "stderr",
     "output_type": "stream",
     "text": [
      "Multiprocess sampling (4 chains in 4 jobs)\n",
      "CompoundStep\n",
      ">Slice: [wcx]\n",
      ">Slice: [wcc]\n",
      ">Slice: [wic]\n",
      ">Slice: [wiout]\n",
      ">Slice: [wei]\n",
      ">Slice: [beta]\n",
      ">Slice: [alpha_e]\n",
      "Sampling 4 chains, 0 divergences: 100%|██████████| 14000/14000 [01:45<00:00, 133.12draws/s]\n",
      "The rhat statistic is larger than 1.4 for some parameters. The sampler did not converge.\n",
      "The estimated number of effective samples is smaller than 200 for some parameters.\n"
     ]
    },
    {
     "name": "stdout",
     "output_type": "stream",
     "text": [
      "********** Bas-Rhin **********\n"
     ]
    },
    {
     "name": "stderr",
     "output_type": "stream",
     "text": [
      "Multiprocess sampling (4 chains in 4 jobs)\n",
      "CompoundStep\n",
      ">Slice: [wcx]\n",
      ">Slice: [wcc]\n",
      ">Slice: [wic]\n",
      ">Slice: [wiout]\n",
      ">Slice: [wei]\n",
      ">Slice: [beta]\n",
      ">Slice: [alpha_e]\n",
      "Sampling 4 chains, 0 divergences: 100%|██████████| 14000/14000 [02:31<00:00, 92.26draws/s] \n",
      "The rhat statistic is larger than 1.4 for some parameters. The sampler did not converge.\n",
      "The estimated number of effective samples is smaller than 200 for some parameters.\n"
     ]
    },
    {
     "name": "stdout",
     "output_type": "stream",
     "text": [
      "********** Haut-Rhin **********\n"
     ]
    },
    {
     "name": "stderr",
     "output_type": "stream",
     "text": [
      "Multiprocess sampling (4 chains in 4 jobs)\n",
      "CompoundStep\n",
      ">Slice: [wcx]\n",
      ">Slice: [wcc]\n",
      ">Slice: [wic]\n",
      ">Slice: [wiout]\n",
      ">Slice: [wei]\n",
      ">Slice: [beta]\n",
      ">Slice: [alpha_e]\n",
      "Sampling 4 chains, 0 divergences: 100%|██████████| 14000/14000 [02:09<00:00, 107.78draws/s]\n",
      "The rhat statistic is larger than 1.4 for some parameters. The sampler did not converge.\n",
      "The estimated number of effective samples is smaller than 200 for some parameters.\n"
     ]
    },
    {
     "name": "stdout",
     "output_type": "stream",
     "text": [
      "********** Marne **********\n"
     ]
    },
    {
     "name": "stderr",
     "output_type": "stream",
     "text": [
      "Multiprocess sampling (4 chains in 4 jobs)\n",
      "CompoundStep\n",
      ">Slice: [wcx]\n",
      ">Slice: [wcc]\n",
      ">Slice: [wic]\n",
      ">Slice: [wiout]\n",
      ">Slice: [wei]\n",
      ">Slice: [beta]\n",
      ">Slice: [alpha_e]\n",
      "Sampling 4 chains, 0 divergences: 100%|██████████| 14000/14000 [02:10<00:00, 107.68draws/s]\n",
      "The rhat statistic is larger than 1.4 for some parameters. The sampler did not converge.\n",
      "The estimated number of effective samples is smaller than 200 for some parameters.\n"
     ]
    },
    {
     "name": "stdout",
     "output_type": "stream",
     "text": [
      "********** Meurthe-et-Moselle **********\n"
     ]
    },
    {
     "name": "stderr",
     "output_type": "stream",
     "text": [
      "Multiprocess sampling (4 chains in 4 jobs)\n",
      "CompoundStep\n",
      ">Slice: [wcx]\n",
      ">Slice: [wcc]\n",
      ">Slice: [wic]\n",
      ">Slice: [wiout]\n",
      ">Slice: [wei]\n",
      ">Slice: [beta]\n",
      ">Slice: [alpha_e]\n",
      "Sampling 4 chains, 0 divergences: 100%|██████████| 14000/14000 [01:48<00:00, 129.47draws/s]\n",
      "The rhat statistic is larger than 1.4 for some parameters. The sampler did not converge.\n",
      "The estimated number of effective samples is smaller than 200 for some parameters.\n"
     ]
    },
    {
     "name": "stdout",
     "output_type": "stream",
     "text": [
      "********** Meuse **********\n"
     ]
    },
    {
     "name": "stderr",
     "output_type": "stream",
     "text": [
      "Multiprocess sampling (4 chains in 4 jobs)\n",
      "CompoundStep\n",
      ">Slice: [wcx]\n",
      ">Slice: [wcc]\n",
      ">Slice: [wic]\n",
      ">Slice: [wiout]\n",
      ">Slice: [wei]\n",
      ">Slice: [beta]\n",
      ">Slice: [alpha_e]\n",
      "Sampling 4 chains, 0 divergences: 100%|██████████| 14000/14000 [02:15<00:00, 103.03draws/s]\n",
      "The rhat statistic is larger than 1.4 for some parameters. The sampler did not converge.\n",
      "The estimated number of effective samples is smaller than 200 for some parameters.\n"
     ]
    },
    {
     "name": "stdout",
     "output_type": "stream",
     "text": [
      "********** Moselle **********\n"
     ]
    },
    {
     "name": "stderr",
     "output_type": "stream",
     "text": [
      "Multiprocess sampling (4 chains in 4 jobs)\n",
      "CompoundStep\n",
      ">Slice: [wcx]\n",
      ">Slice: [wcc]\n",
      ">Slice: [wic]\n",
      ">Slice: [wiout]\n",
      ">Slice: [wei]\n",
      ">Slice: [beta]\n",
      ">Slice: [alpha_e]\n",
      "Sampling 4 chains, 0 divergences: 100%|██████████| 14000/14000 [02:34<00:00, 90.76draws/s]\n",
      "The rhat statistic is larger than 1.4 for some parameters. The sampler did not converge.\n",
      "The estimated number of effective samples is smaller than 200 for some parameters.\n"
     ]
    },
    {
     "name": "stdout",
     "output_type": "stream",
     "text": [
      "********** Vosges **********\n"
     ]
    },
    {
     "name": "stderr",
     "output_type": "stream",
     "text": [
      "Multiprocess sampling (4 chains in 4 jobs)\n",
      "CompoundStep\n",
      ">Slice: [wcx]\n",
      ">Slice: [wcc]\n",
      ">Slice: [wic]\n",
      ">Slice: [wiout]\n",
      ">Slice: [wei]\n",
      ">Slice: [beta]\n",
      ">Slice: [alpha_e]\n",
      "Sampling 4 chains, 0 divergences: 100%|██████████| 14000/14000 [01:57<00:00, 119.03draws/s]\n",
      "The rhat statistic is larger than 1.4 for some parameters. The sampler did not converge.\n",
      "The estimated number of effective samples is smaller than 200 for some parameters.\n"
     ]
    }
   ],
   "source": [
    "for k, dep in enumerate(sites):\n",
    "    print('*'*10, dep, '*'*10)\n",
    "    params_star = params_hat[k].copy()\n",
    "    params_star[1:] = np.clip(params_star[1:], a_min=1e-10, a_max=(1-1e-10))\n",
    "    condition = data.department==dep\n",
    "\n",
    "    n_days = data[condition].date.size\n",
    "    data[condition]['n_covid_occ'].size\n",
    "    pop = data_pop[data_pop.dep=='{}'.format(depname2depid[dep])]['pop'].values[0]\n",
    "\n",
    "    # evaluate noise variance for this departement\n",
    "    c, x = compute_model(pop, params_star, n_days)\n",
    "    sigma = .5*(np.std(data[condition]['n_covid_occ'].values - c) \n",
    "                + np.std(data[condition]['n_covid_deaths'].values\n",
    "                         +data[condition]['n_covid_healed'].values - x))\n",
    "\n",
    "    df_samples = get_samples(params_star, \n",
    "                             data[condition]['n_covid_occ'].values,\n",
    "                             (data[condition]['n_covid_deaths'].values\n",
    "                              +data[condition]['n_covid_healed'].values),\n",
    "                             sigma, pop)\n",
    "    \n",
    "    df_samples.insert(0, 'n_days_pre', params_star[0])\n",
    "    df_samples.to_csv(op.join(micu.model_path, \n",
    "            'samples', 'samples_{}_{}.csv'.format(dep.lower(), last_date)))"
   ]
  }
 ],
 "metadata": {
  "anaconda-cloud": {},
  "kernelspec": {
   "display_name": "Python 3",
   "language": "python",
   "name": "python3"
  },
  "language_info": {
   "codemirror_mode": {
    "name": "ipython",
    "version": 3
   },
   "file_extension": ".py",
   "mimetype": "text/x-python",
   "name": "python",
   "nbconvert_exporter": "python",
   "pygments_lexer": "ipython3",
   "version": "3.7.6"
  }
 },
 "nbformat": 4,
 "nbformat_minor": 1
}
