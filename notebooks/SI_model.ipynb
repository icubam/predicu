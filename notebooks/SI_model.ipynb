{
 "cells": [
  {
   "cell_type": "code",
   "execution_count": 85,
   "metadata": {},
   "outputs": [],
   "source": [
    "#from predicu.predicu.data import load_all_data\n",
    "from ddeint import ddeint\n",
    "import numpy as np\n",
    "import matplotlib\n",
    "import matplotlib.pyplot as plt\n",
    "from scipy.optimize import curve_fit\n",
    "from scipy.integrate import odeint, ode\n",
    "import matplotlib.style\n",
    "import seaborn as sns\n",
    "\n",
    "\n",
    "matplotlib.style.use('seaborn-whitegrid')\n",
    "\n",
    "from predicu.data import CUM_COLUMNS, NCUM_COLUMNS,load_all_data\n",
    "\n",
    "import pandas as pd\n",
    "from lmfit import minimize, Parameters, Parameter, report_fit\n",
    "from scipy.integrate import odeint"
   ]
  },
  {
   "cell_type": "code",
   "execution_count": 5,
   "metadata": {},
   "outputs": [],
   "source": [
    "import os"
   ]
  },
  {
   "cell_type": "code",
   "execution_count": 9,
   "metadata": {
    "scrolled": true
   },
   "outputs": [],
   "source": [
    "os.chdir('../')"
   ]
  },
  {
   "cell_type": "code",
   "execution_count": 16,
   "metadata": {},
   "outputs": [],
   "source": [
    "data = load_all_data()"
   ]
  },
  {
   "cell_type": "code",
   "execution_count": 86,
   "metadata": {},
   "outputs": [
    {
     "data": {
      "text/plain": [
       "array(['Ardennes', 'Aube', 'Bas-Rhin', 'Haut-Rhin', 'Marne',\n",
       "       'Meurthe-et-Moselle', 'Meuse', 'Moselle', 'Vosges', 'Cher',\n",
       "       'Eure-et-Loir', 'Indre-et-Loire', 'Loir-et-Cher', 'Loiret',\n",
       "       'Finistere', 'Indre'], dtype=object)"
      ]
     },
     "execution_count": 86,
     "metadata": {},
     "output_type": "execute_result"
    }
   ],
   "source": [
    "dep.department.unique()"
   ]
  },
  {
   "cell_type": "code",
   "execution_count": 18,
   "metadata": {},
   "outputs": [
    {
     "data": {
      "text/html": [
       "<div>\n",
       "<style scoped>\n",
       "    .dataframe tbody tr th:only-of-type {\n",
       "        vertical-align: middle;\n",
       "    }\n",
       "\n",
       "    .dataframe tbody tr th {\n",
       "        vertical-align: top;\n",
       "    }\n",
       "\n",
       "    .dataframe thead th {\n",
       "        text-align: right;\n",
       "    }\n",
       "</style>\n",
       "<table border=\"1\" class=\"dataframe\">\n",
       "  <thead>\n",
       "    <tr style=\"text-align: right;\">\n",
       "      <th></th>\n",
       "      <th>date</th>\n",
       "      <th>department</th>\n",
       "      <th>n_covid_deaths</th>\n",
       "      <th>n_covid_healed</th>\n",
       "      <th>n_covid_transfered</th>\n",
       "      <th>n_covid_refused</th>\n",
       "      <th>n_covid_free</th>\n",
       "      <th>n_ncovid_free</th>\n",
       "      <th>n_covid_occ</th>\n",
       "      <th>n_ncovid_occ</th>\n",
       "    </tr>\n",
       "  </thead>\n",
       "  <tbody>\n",
       "    <tr>\n",
       "      <th>0</th>\n",
       "      <td>2020-03-18</td>\n",
       "      <td>Ardennes</td>\n",
       "      <td>0</td>\n",
       "      <td>0</td>\n",
       "      <td>0</td>\n",
       "      <td>0</td>\n",
       "      <td>0</td>\n",
       "      <td>0</td>\n",
       "      <td>0</td>\n",
       "      <td>0</td>\n",
       "    </tr>\n",
       "    <tr>\n",
       "      <th>1</th>\n",
       "      <td>2020-03-18</td>\n",
       "      <td>Aube</td>\n",
       "      <td>0</td>\n",
       "      <td>0</td>\n",
       "      <td>0</td>\n",
       "      <td>0</td>\n",
       "      <td>0</td>\n",
       "      <td>0</td>\n",
       "      <td>0</td>\n",
       "      <td>0</td>\n",
       "    </tr>\n",
       "    <tr>\n",
       "      <th>2</th>\n",
       "      <td>2020-03-18</td>\n",
       "      <td>Bas-Rhin</td>\n",
       "      <td>3</td>\n",
       "      <td>4</td>\n",
       "      <td>0</td>\n",
       "      <td>0</td>\n",
       "      <td>12</td>\n",
       "      <td>0</td>\n",
       "      <td>87</td>\n",
       "      <td>0</td>\n",
       "    </tr>\n",
       "    <tr>\n",
       "      <th>3</th>\n",
       "      <td>2020-03-18</td>\n",
       "      <td>Haut-Rhin</td>\n",
       "      <td>9</td>\n",
       "      <td>1</td>\n",
       "      <td>0</td>\n",
       "      <td>0</td>\n",
       "      <td>1</td>\n",
       "      <td>0</td>\n",
       "      <td>66</td>\n",
       "      <td>0</td>\n",
       "    </tr>\n",
       "    <tr>\n",
       "      <th>4</th>\n",
       "      <td>2020-03-18</td>\n",
       "      <td>Marne</td>\n",
       "      <td>1</td>\n",
       "      <td>2</td>\n",
       "      <td>0</td>\n",
       "      <td>0</td>\n",
       "      <td>9</td>\n",
       "      <td>0</td>\n",
       "      <td>10</td>\n",
       "      <td>0</td>\n",
       "    </tr>\n",
       "    <tr>\n",
       "      <th>...</th>\n",
       "      <td>...</td>\n",
       "      <td>...</td>\n",
       "      <td>...</td>\n",
       "      <td>...</td>\n",
       "      <td>...</td>\n",
       "      <td>...</td>\n",
       "      <td>...</td>\n",
       "      <td>...</td>\n",
       "      <td>...</td>\n",
       "      <td>...</td>\n",
       "    </tr>\n",
       "    <tr>\n",
       "      <th>168</th>\n",
       "      <td>2020-04-03</td>\n",
       "      <td>Marne</td>\n",
       "      <td>10</td>\n",
       "      <td>12</td>\n",
       "      <td>9</td>\n",
       "      <td>25</td>\n",
       "      <td>19</td>\n",
       "      <td>25</td>\n",
       "      <td>93</td>\n",
       "      <td>5</td>\n",
       "    </tr>\n",
       "    <tr>\n",
       "      <th>169</th>\n",
       "      <td>2020-04-03</td>\n",
       "      <td>Meurthe-et-Moselle</td>\n",
       "      <td>12</td>\n",
       "      <td>41</td>\n",
       "      <td>21</td>\n",
       "      <td>26</td>\n",
       "      <td>6</td>\n",
       "      <td>0</td>\n",
       "      <td>96</td>\n",
       "      <td>14</td>\n",
       "    </tr>\n",
       "    <tr>\n",
       "      <th>170</th>\n",
       "      <td>2020-04-03</td>\n",
       "      <td>Meuse</td>\n",
       "      <td>3</td>\n",
       "      <td>2</td>\n",
       "      <td>1</td>\n",
       "      <td>0</td>\n",
       "      <td>3</td>\n",
       "      <td>0</td>\n",
       "      <td>17</td>\n",
       "      <td>3</td>\n",
       "    </tr>\n",
       "    <tr>\n",
       "      <th>171</th>\n",
       "      <td>2020-04-03</td>\n",
       "      <td>Moselle</td>\n",
       "      <td>33</td>\n",
       "      <td>25</td>\n",
       "      <td>34</td>\n",
       "      <td>10</td>\n",
       "      <td>15</td>\n",
       "      <td>4</td>\n",
       "      <td>66</td>\n",
       "      <td>10</td>\n",
       "    </tr>\n",
       "    <tr>\n",
       "      <th>172</th>\n",
       "      <td>2020-04-03</td>\n",
       "      <td>Vosges</td>\n",
       "      <td>9</td>\n",
       "      <td>8</td>\n",
       "      <td>0</td>\n",
       "      <td>3</td>\n",
       "      <td>1</td>\n",
       "      <td>0</td>\n",
       "      <td>20</td>\n",
       "      <td>0</td>\n",
       "    </tr>\n",
       "  </tbody>\n",
       "</table>\n",
       "<p>173 rows × 10 columns</p>\n",
       "</div>"
      ],
      "text/plain": [
       "           date          department  n_covid_deaths  n_covid_healed  \\\n",
       "0    2020-03-18            Ardennes               0               0   \n",
       "1    2020-03-18                Aube               0               0   \n",
       "2    2020-03-18            Bas-Rhin               3               4   \n",
       "3    2020-03-18           Haut-Rhin               9               1   \n",
       "4    2020-03-18               Marne               1               2   \n",
       "..          ...                 ...             ...             ...   \n",
       "168  2020-04-03               Marne              10              12   \n",
       "169  2020-04-03  Meurthe-et-Moselle              12              41   \n",
       "170  2020-04-03               Meuse               3               2   \n",
       "171  2020-04-03             Moselle              33              25   \n",
       "172  2020-04-03              Vosges               9               8   \n",
       "\n",
       "     n_covid_transfered  n_covid_refused  n_covid_free  n_ncovid_free  \\\n",
       "0                     0                0             0              0   \n",
       "1                     0                0             0              0   \n",
       "2                     0                0            12              0   \n",
       "3                     0                0             1              0   \n",
       "4                     0                0             9              0   \n",
       "..                  ...              ...           ...            ...   \n",
       "168                   9               25            19             25   \n",
       "169                  21               26             6              0   \n",
       "170                   1                0             3              0   \n",
       "171                  34               10            15              4   \n",
       "172                   0                3             1              0   \n",
       "\n",
       "     n_covid_occ  n_ncovid_occ  \n",
       "0              0             0  \n",
       "1              0             0  \n",
       "2             87             0  \n",
       "3             66             0  \n",
       "4             10             0  \n",
       "..           ...           ...  \n",
       "168           93             5  \n",
       "169           96            14  \n",
       "170           17             3  \n",
       "171           66            10  \n",
       "172           20             0  \n",
       "\n",
       "[173 rows x 10 columns]"
      ]
     },
     "execution_count": 18,
     "metadata": {},
     "output_type": "execute_result"
    }
   ],
   "source": [
    "dep = data.groupby(['date', 'department','icu_name'])[CUM_COLUMNS+NCUM_COLUMNS].last().reset_index()\n",
    "dep= dep.groupby(['date', 'department'])[CUM_COLUMNS+NCUM_COLUMNS].sum().reset_index()\n",
    "dep\n",
    "#occ_bas_rhin = np.array([70.0,80.0,100.0,101.0,106.0,115.0,114.0,124.0,142.0,152.0,153.0,157.0,165.0,172.0])"
   ]
  },
  {
   "cell_type": "code",
   "execution_count": 19,
   "metadata": {},
   "outputs": [],
   "source": [
    "dep['icu_cum'] = dep.n_covid_deaths + dep.n_covid_healed + dep.n_covid_transfered + dep.n_covid_refused + dep.n_covid_occ"
   ]
  },
  {
   "cell_type": "code",
   "execution_count": 102,
   "metadata": {},
   "outputs": [
    {
     "data": {
      "text/html": [
       "<div>\n",
       "<style scoped>\n",
       "    .dataframe tbody tr th:only-of-type {\n",
       "        vertical-align: middle;\n",
       "    }\n",
       "\n",
       "    .dataframe tbody tr th {\n",
       "        vertical-align: top;\n",
       "    }\n",
       "\n",
       "    .dataframe thead th {\n",
       "        text-align: right;\n",
       "    }\n",
       "</style>\n",
       "<table border=\"1\" class=\"dataframe\">\n",
       "  <thead>\n",
       "    <tr style=\"text-align: right;\">\n",
       "      <th></th>\n",
       "      <th>date</th>\n",
       "      <th>department</th>\n",
       "      <th>n_covid_deaths</th>\n",
       "      <th>n_covid_healed</th>\n",
       "      <th>n_covid_transfered</th>\n",
       "      <th>n_covid_refused</th>\n",
       "      <th>n_covid_free</th>\n",
       "      <th>n_ncovid_free</th>\n",
       "      <th>n_covid_occ</th>\n",
       "      <th>n_ncovid_occ</th>\n",
       "      <th>icu_cum</th>\n",
       "    </tr>\n",
       "  </thead>\n",
       "  <tbody>\n",
       "    <tr>\n",
       "      <th>153</th>\n",
       "      <td>2020-04-02</td>\n",
       "      <td>Marne</td>\n",
       "      <td>10</td>\n",
       "      <td>12</td>\n",
       "      <td>8</td>\n",
       "      <td>25</td>\n",
       "      <td>19</td>\n",
       "      <td>26</td>\n",
       "      <td>94</td>\n",
       "      <td>5</td>\n",
       "      <td>149</td>\n",
       "    </tr>\n",
       "    <tr>\n",
       "      <th>154</th>\n",
       "      <td>2020-04-02</td>\n",
       "      <td>Meurthe-et-Moselle</td>\n",
       "      <td>17</td>\n",
       "      <td>61</td>\n",
       "      <td>31</td>\n",
       "      <td>26</td>\n",
       "      <td>12</td>\n",
       "      <td>11</td>\n",
       "      <td>141</td>\n",
       "      <td>13</td>\n",
       "      <td>276</td>\n",
       "    </tr>\n",
       "    <tr>\n",
       "      <th>155</th>\n",
       "      <td>2020-04-02</td>\n",
       "      <td>Meuse</td>\n",
       "      <td>3</td>\n",
       "      <td>1</td>\n",
       "      <td>1</td>\n",
       "      <td>0</td>\n",
       "      <td>3</td>\n",
       "      <td>1</td>\n",
       "      <td>17</td>\n",
       "      <td>3</td>\n",
       "      <td>22</td>\n",
       "    </tr>\n",
       "    <tr>\n",
       "      <th>156</th>\n",
       "      <td>2020-04-02</td>\n",
       "      <td>Moselle</td>\n",
       "      <td>34</td>\n",
       "      <td>24</td>\n",
       "      <td>31</td>\n",
       "      <td>10</td>\n",
       "      <td>15</td>\n",
       "      <td>5</td>\n",
       "      <td>81</td>\n",
       "      <td>9</td>\n",
       "      <td>180</td>\n",
       "    </tr>\n",
       "    <tr>\n",
       "      <th>157</th>\n",
       "      <td>2020-04-02</td>\n",
       "      <td>Vosges</td>\n",
       "      <td>7</td>\n",
       "      <td>8</td>\n",
       "      <td>0</td>\n",
       "      <td>3</td>\n",
       "      <td>1</td>\n",
       "      <td>0</td>\n",
       "      <td>20</td>\n",
       "      <td>0</td>\n",
       "      <td>38</td>\n",
       "    </tr>\n",
       "    <tr>\n",
       "      <th>158</th>\n",
       "      <td>2020-04-03</td>\n",
       "      <td>Ardennes</td>\n",
       "      <td>0</td>\n",
       "      <td>2</td>\n",
       "      <td>0</td>\n",
       "      <td>2</td>\n",
       "      <td>6</td>\n",
       "      <td>1</td>\n",
       "      <td>17</td>\n",
       "      <td>3</td>\n",
       "      <td>21</td>\n",
       "    </tr>\n",
       "    <tr>\n",
       "      <th>159</th>\n",
       "      <td>2020-04-03</td>\n",
       "      <td>Aube</td>\n",
       "      <td>0</td>\n",
       "      <td>0</td>\n",
       "      <td>0</td>\n",
       "      <td>0</td>\n",
       "      <td>0</td>\n",
       "      <td>1</td>\n",
       "      <td>17</td>\n",
       "      <td>0</td>\n",
       "      <td>17</td>\n",
       "    </tr>\n",
       "    <tr>\n",
       "      <th>160</th>\n",
       "      <td>2020-04-03</td>\n",
       "      <td>Bas-Rhin</td>\n",
       "      <td>50</td>\n",
       "      <td>51</td>\n",
       "      <td>81</td>\n",
       "      <td>149</td>\n",
       "      <td>13</td>\n",
       "      <td>3</td>\n",
       "      <td>151</td>\n",
       "      <td>5</td>\n",
       "      <td>482</td>\n",
       "    </tr>\n",
       "    <tr>\n",
       "      <th>161</th>\n",
       "      <td>2020-04-03</td>\n",
       "      <td>Cher</td>\n",
       "      <td>3</td>\n",
       "      <td>9</td>\n",
       "      <td>2</td>\n",
       "      <td>0</td>\n",
       "      <td>5</td>\n",
       "      <td>1</td>\n",
       "      <td>13</td>\n",
       "      <td>4</td>\n",
       "      <td>27</td>\n",
       "    </tr>\n",
       "    <tr>\n",
       "      <th>162</th>\n",
       "      <td>2020-04-03</td>\n",
       "      <td>Eure-et-Loir</td>\n",
       "      <td>2</td>\n",
       "      <td>2</td>\n",
       "      <td>4</td>\n",
       "      <td>0</td>\n",
       "      <td>8</td>\n",
       "      <td>4</td>\n",
       "      <td>31</td>\n",
       "      <td>6</td>\n",
       "      <td>39</td>\n",
       "    </tr>\n",
       "    <tr>\n",
       "      <th>163</th>\n",
       "      <td>2020-04-03</td>\n",
       "      <td>Finistere</td>\n",
       "      <td>0</td>\n",
       "      <td>0</td>\n",
       "      <td>0</td>\n",
       "      <td>0</td>\n",
       "      <td>12</td>\n",
       "      <td>4</td>\n",
       "      <td>22</td>\n",
       "      <td>10</td>\n",
       "      <td>22</td>\n",
       "    </tr>\n",
       "    <tr>\n",
       "      <th>164</th>\n",
       "      <td>2020-04-03</td>\n",
       "      <td>Haut-Rhin</td>\n",
       "      <td>30</td>\n",
       "      <td>43</td>\n",
       "      <td>127</td>\n",
       "      <td>108</td>\n",
       "      <td>10</td>\n",
       "      <td>1</td>\n",
       "      <td>74</td>\n",
       "      <td>2</td>\n",
       "      <td>382</td>\n",
       "    </tr>\n",
       "    <tr>\n",
       "      <th>165</th>\n",
       "      <td>2020-04-03</td>\n",
       "      <td>Indre-et-Loire</td>\n",
       "      <td>2</td>\n",
       "      <td>18</td>\n",
       "      <td>0</td>\n",
       "      <td>0</td>\n",
       "      <td>5</td>\n",
       "      <td>0</td>\n",
       "      <td>46</td>\n",
       "      <td>0</td>\n",
       "      <td>66</td>\n",
       "    </tr>\n",
       "    <tr>\n",
       "      <th>166</th>\n",
       "      <td>2020-04-03</td>\n",
       "      <td>Loir-et-Cher</td>\n",
       "      <td>0</td>\n",
       "      <td>2</td>\n",
       "      <td>0</td>\n",
       "      <td>0</td>\n",
       "      <td>5</td>\n",
       "      <td>1</td>\n",
       "      <td>13</td>\n",
       "      <td>5</td>\n",
       "      <td>15</td>\n",
       "    </tr>\n",
       "    <tr>\n",
       "      <th>167</th>\n",
       "      <td>2020-04-03</td>\n",
       "      <td>Loiret</td>\n",
       "      <td>1</td>\n",
       "      <td>3</td>\n",
       "      <td>1</td>\n",
       "      <td>0</td>\n",
       "      <td>3</td>\n",
       "      <td>1</td>\n",
       "      <td>49</td>\n",
       "      <td>5</td>\n",
       "      <td>54</td>\n",
       "    </tr>\n",
       "    <tr>\n",
       "      <th>168</th>\n",
       "      <td>2020-04-03</td>\n",
       "      <td>Marne</td>\n",
       "      <td>10</td>\n",
       "      <td>12</td>\n",
       "      <td>9</td>\n",
       "      <td>25</td>\n",
       "      <td>19</td>\n",
       "      <td>25</td>\n",
       "      <td>93</td>\n",
       "      <td>5</td>\n",
       "      <td>149</td>\n",
       "    </tr>\n",
       "    <tr>\n",
       "      <th>169</th>\n",
       "      <td>2020-04-03</td>\n",
       "      <td>Meurthe-et-Moselle</td>\n",
       "      <td>12</td>\n",
       "      <td>41</td>\n",
       "      <td>21</td>\n",
       "      <td>26</td>\n",
       "      <td>6</td>\n",
       "      <td>0</td>\n",
       "      <td>96</td>\n",
       "      <td>14</td>\n",
       "      <td>196</td>\n",
       "    </tr>\n",
       "    <tr>\n",
       "      <th>170</th>\n",
       "      <td>2020-04-03</td>\n",
       "      <td>Meuse</td>\n",
       "      <td>3</td>\n",
       "      <td>2</td>\n",
       "      <td>1</td>\n",
       "      <td>0</td>\n",
       "      <td>3</td>\n",
       "      <td>0</td>\n",
       "      <td>17</td>\n",
       "      <td>3</td>\n",
       "      <td>23</td>\n",
       "    </tr>\n",
       "    <tr>\n",
       "      <th>171</th>\n",
       "      <td>2020-04-03</td>\n",
       "      <td>Moselle</td>\n",
       "      <td>33</td>\n",
       "      <td>25</td>\n",
       "      <td>34</td>\n",
       "      <td>10</td>\n",
       "      <td>15</td>\n",
       "      <td>4</td>\n",
       "      <td>66</td>\n",
       "      <td>10</td>\n",
       "      <td>168</td>\n",
       "    </tr>\n",
       "    <tr>\n",
       "      <th>172</th>\n",
       "      <td>2020-04-03</td>\n",
       "      <td>Vosges</td>\n",
       "      <td>9</td>\n",
       "      <td>8</td>\n",
       "      <td>0</td>\n",
       "      <td>3</td>\n",
       "      <td>1</td>\n",
       "      <td>0</td>\n",
       "      <td>20</td>\n",
       "      <td>0</td>\n",
       "      <td>40</td>\n",
       "    </tr>\n",
       "  </tbody>\n",
       "</table>\n",
       "</div>"
      ],
      "text/plain": [
       "           date          department  n_covid_deaths  n_covid_healed  \\\n",
       "153  2020-04-02               Marne              10              12   \n",
       "154  2020-04-02  Meurthe-et-Moselle              17              61   \n",
       "155  2020-04-02               Meuse               3               1   \n",
       "156  2020-04-02             Moselle              34              24   \n",
       "157  2020-04-02              Vosges               7               8   \n",
       "158  2020-04-03            Ardennes               0               2   \n",
       "159  2020-04-03                Aube               0               0   \n",
       "160  2020-04-03            Bas-Rhin              50              51   \n",
       "161  2020-04-03                Cher               3               9   \n",
       "162  2020-04-03        Eure-et-Loir               2               2   \n",
       "163  2020-04-03           Finistere               0               0   \n",
       "164  2020-04-03           Haut-Rhin              30              43   \n",
       "165  2020-04-03      Indre-et-Loire               2              18   \n",
       "166  2020-04-03        Loir-et-Cher               0               2   \n",
       "167  2020-04-03              Loiret               1               3   \n",
       "168  2020-04-03               Marne              10              12   \n",
       "169  2020-04-03  Meurthe-et-Moselle              12              41   \n",
       "170  2020-04-03               Meuse               3               2   \n",
       "171  2020-04-03             Moselle              33              25   \n",
       "172  2020-04-03              Vosges               9               8   \n",
       "\n",
       "     n_covid_transfered  n_covid_refused  n_covid_free  n_ncovid_free  \\\n",
       "153                   8               25            19             26   \n",
       "154                  31               26            12             11   \n",
       "155                   1                0             3              1   \n",
       "156                  31               10            15              5   \n",
       "157                   0                3             1              0   \n",
       "158                   0                2             6              1   \n",
       "159                   0                0             0              1   \n",
       "160                  81              149            13              3   \n",
       "161                   2                0             5              1   \n",
       "162                   4                0             8              4   \n",
       "163                   0                0            12              4   \n",
       "164                 127              108            10              1   \n",
       "165                   0                0             5              0   \n",
       "166                   0                0             5              1   \n",
       "167                   1                0             3              1   \n",
       "168                   9               25            19             25   \n",
       "169                  21               26             6              0   \n",
       "170                   1                0             3              0   \n",
       "171                  34               10            15              4   \n",
       "172                   0                3             1              0   \n",
       "\n",
       "     n_covid_occ  n_ncovid_occ  icu_cum  \n",
       "153           94             5      149  \n",
       "154          141            13      276  \n",
       "155           17             3       22  \n",
       "156           81             9      180  \n",
       "157           20             0       38  \n",
       "158           17             3       21  \n",
       "159           17             0       17  \n",
       "160          151             5      482  \n",
       "161           13             4       27  \n",
       "162           31             6       39  \n",
       "163           22            10       22  \n",
       "164           74             2      382  \n",
       "165           46             0       66  \n",
       "166           13             5       15  \n",
       "167           49             5       54  \n",
       "168           93             5      149  \n",
       "169           96            14      196  \n",
       "170           17             3       23  \n",
       "171           66            10      168  \n",
       "172           20             0       40  "
      ]
     },
     "execution_count": 102,
     "metadata": {},
     "output_type": "execute_result"
    }
   ],
   "source": [
    "dep.tail(20)"
   ]
  },
  {
   "cell_type": "code",
   "execution_count": 21,
   "metadata": {},
   "outputs": [],
   "source": [
    "occ_bas_rhin= dep.loc[dep.department=='Bas-Rhin', 'n_covid_occ']"
   ]
  },
  {
   "cell_type": "code",
   "execution_count": 22,
   "metadata": {},
   "outputs": [
    {
     "data": {
      "text/html": [
       "<div>\n",
       "<style scoped>\n",
       "    .dataframe tbody tr th:only-of-type {\n",
       "        vertical-align: middle;\n",
       "    }\n",
       "\n",
       "    .dataframe tbody tr th {\n",
       "        vertical-align: top;\n",
       "    }\n",
       "\n",
       "    .dataframe thead th {\n",
       "        text-align: right;\n",
       "    }\n",
       "</style>\n",
       "<table border=\"1\" class=\"dataframe\">\n",
       "  <thead>\n",
       "    <tr style=\"text-align: right;\">\n",
       "      <th></th>\n",
       "      <th>n_covid_deaths</th>\n",
       "      <th>n_covid_healed</th>\n",
       "      <th>n_covid_transfered</th>\n",
       "      <th>n_covid_refused</th>\n",
       "      <th>n_covid_free</th>\n",
       "      <th>n_ncovid_free</th>\n",
       "      <th>n_covid_occ</th>\n",
       "      <th>n_ncovid_occ</th>\n",
       "    </tr>\n",
       "  </thead>\n",
       "  <tbody>\n",
       "    <tr>\n",
       "      <th>0</th>\n",
       "      <td>NaN</td>\n",
       "      <td>NaN</td>\n",
       "      <td>NaN</td>\n",
       "      <td>NaN</td>\n",
       "      <td>NaN</td>\n",
       "      <td>NaN</td>\n",
       "      <td>NaN</td>\n",
       "      <td>NaN</td>\n",
       "    </tr>\n",
       "    <tr>\n",
       "      <th>1</th>\n",
       "      <td>NaN</td>\n",
       "      <td>NaN</td>\n",
       "      <td>NaN</td>\n",
       "      <td>NaN</td>\n",
       "      <td>NaN</td>\n",
       "      <td>NaN</td>\n",
       "      <td>NaN</td>\n",
       "      <td>NaN</td>\n",
       "    </tr>\n",
       "    <tr>\n",
       "      <th>2</th>\n",
       "      <td>NaN</td>\n",
       "      <td>NaN</td>\n",
       "      <td>NaN</td>\n",
       "      <td>NaN</td>\n",
       "      <td>NaN</td>\n",
       "      <td>NaN</td>\n",
       "      <td>NaN</td>\n",
       "      <td>NaN</td>\n",
       "    </tr>\n",
       "    <tr>\n",
       "      <th>3</th>\n",
       "      <td>NaN</td>\n",
       "      <td>NaN</td>\n",
       "      <td>NaN</td>\n",
       "      <td>NaN</td>\n",
       "      <td>NaN</td>\n",
       "      <td>NaN</td>\n",
       "      <td>NaN</td>\n",
       "      <td>NaN</td>\n",
       "    </tr>\n",
       "    <tr>\n",
       "      <th>4</th>\n",
       "      <td>NaN</td>\n",
       "      <td>NaN</td>\n",
       "      <td>NaN</td>\n",
       "      <td>NaN</td>\n",
       "      <td>NaN</td>\n",
       "      <td>NaN</td>\n",
       "      <td>NaN</td>\n",
       "      <td>NaN</td>\n",
       "    </tr>\n",
       "    <tr>\n",
       "      <th>...</th>\n",
       "      <td>...</td>\n",
       "      <td>...</td>\n",
       "      <td>...</td>\n",
       "      <td>...</td>\n",
       "      <td>...</td>\n",
       "      <td>...</td>\n",
       "      <td>...</td>\n",
       "      <td>...</td>\n",
       "    </tr>\n",
       "    <tr>\n",
       "      <th>168</th>\n",
       "      <td>0.0</td>\n",
       "      <td>0.0</td>\n",
       "      <td>1.0</td>\n",
       "      <td>0.0</td>\n",
       "      <td>0.0</td>\n",
       "      <td>-1.0</td>\n",
       "      <td>-1.0</td>\n",
       "      <td>0.0</td>\n",
       "    </tr>\n",
       "    <tr>\n",
       "      <th>169</th>\n",
       "      <td>-5.0</td>\n",
       "      <td>-20.0</td>\n",
       "      <td>-10.0</td>\n",
       "      <td>0.0</td>\n",
       "      <td>-6.0</td>\n",
       "      <td>-11.0</td>\n",
       "      <td>-45.0</td>\n",
       "      <td>1.0</td>\n",
       "    </tr>\n",
       "    <tr>\n",
       "      <th>170</th>\n",
       "      <td>0.0</td>\n",
       "      <td>1.0</td>\n",
       "      <td>0.0</td>\n",
       "      <td>0.0</td>\n",
       "      <td>0.0</td>\n",
       "      <td>-1.0</td>\n",
       "      <td>0.0</td>\n",
       "      <td>0.0</td>\n",
       "    </tr>\n",
       "    <tr>\n",
       "      <th>171</th>\n",
       "      <td>-1.0</td>\n",
       "      <td>1.0</td>\n",
       "      <td>3.0</td>\n",
       "      <td>0.0</td>\n",
       "      <td>0.0</td>\n",
       "      <td>-1.0</td>\n",
       "      <td>-15.0</td>\n",
       "      <td>1.0</td>\n",
       "    </tr>\n",
       "    <tr>\n",
       "      <th>172</th>\n",
       "      <td>2.0</td>\n",
       "      <td>0.0</td>\n",
       "      <td>0.0</td>\n",
       "      <td>0.0</td>\n",
       "      <td>0.0</td>\n",
       "      <td>0.0</td>\n",
       "      <td>0.0</td>\n",
       "      <td>0.0</td>\n",
       "    </tr>\n",
       "  </tbody>\n",
       "</table>\n",
       "<p>173 rows × 8 columns</p>\n",
       "</div>"
      ],
      "text/plain": [
       "     n_covid_deaths  n_covid_healed  n_covid_transfered  n_covid_refused  \\\n",
       "0               NaN             NaN                 NaN              NaN   \n",
       "1               NaN             NaN                 NaN              NaN   \n",
       "2               NaN             NaN                 NaN              NaN   \n",
       "3               NaN             NaN                 NaN              NaN   \n",
       "4               NaN             NaN                 NaN              NaN   \n",
       "..              ...             ...                 ...              ...   \n",
       "168             0.0             0.0                 1.0              0.0   \n",
       "169            -5.0           -20.0               -10.0              0.0   \n",
       "170             0.0             1.0                 0.0              0.0   \n",
       "171            -1.0             1.0                 3.0              0.0   \n",
       "172             2.0             0.0                 0.0              0.0   \n",
       "\n",
       "     n_covid_free  n_ncovid_free  n_covid_occ  n_ncovid_occ  \n",
       "0             NaN            NaN          NaN           NaN  \n",
       "1             NaN            NaN          NaN           NaN  \n",
       "2             NaN            NaN          NaN           NaN  \n",
       "3             NaN            NaN          NaN           NaN  \n",
       "4             NaN            NaN          NaN           NaN  \n",
       "..            ...            ...          ...           ...  \n",
       "168           0.0           -1.0         -1.0           0.0  \n",
       "169          -6.0          -11.0        -45.0           1.0  \n",
       "170           0.0           -1.0          0.0           0.0  \n",
       "171           0.0           -1.0        -15.0           1.0  \n",
       "172           0.0            0.0          0.0           0.0  \n",
       "\n",
       "[173 rows x 8 columns]"
      ]
     },
     "execution_count": 22,
     "metadata": {},
     "output_type": "execute_result"
    }
   ],
   "source": [
    "#ill_dep_per_day = dep.groupby(['department'])[CUM_COLUMNS+NCUM_COLUMNS].diff()\n",
    "#ill_dep_per_day"
   ]
  },
  {
   "cell_type": "code",
   "execution_count": 8,
   "metadata": {},
   "outputs": [
    {
     "data": {
      "text/plain": [
       "array(['Moselle', 'Ardennes', 'Haut-Rhin', 'Vosges', 'Meurthe-et-Moselle',\n",
       "       'Bas-Rhin', 'Marne', 'Aube', 'Meuse', 'Loir-et-Cher', 'Cher',\n",
       "       'Eure-et-Loir', 'Loiret', 'Indre-et-Loire', 'Indre', 'Finistere'],\n",
       "      dtype=object)"
      ]
     },
     "execution_count": 8,
     "metadata": {},
     "output_type": "execute_result"
    }
   ],
   "source": [
    "data.department.unique()"
   ]
  },
  {
   "cell_type": "code",
   "execution_count": 23,
   "metadata": {},
   "outputs": [
    {
     "data": {
      "text/plain": [
       "17"
      ]
     },
     "execution_count": 23,
     "metadata": {},
     "output_type": "execute_result"
    }
   ],
   "source": [
    "len(occ_bas_rhin)"
   ]
  },
  {
   "cell_type": "markdown",
   "metadata": {},
   "source": [
    "First check that model is alright and plot for non delayed ODE\n",
    "$dX(t) = (\\beta(t) - \\nu_{h} - \\nu_d) * X(t)$ for Bas Rhin e.g"
   ]
  },
  {
   "cell_type": "code",
   "execution_count": 26,
   "metadata": {},
   "outputs": [],
   "source": [
    "beta_0=0.7\n",
    "decrease= 'exp'\n",
    "mu=0.07\n",
    "T_crit=10\n",
    "nu_h=0.2\n",
    "nu_d = 0.2\n",
    "\n",
    "\n",
    "def beta(beta_0, decrease, mu, T_crit, t):\n",
    "    if decrease == 'exp':\n",
    "        mu_t = mu * max(t-T_crit, 0)\n",
    "        return beta_0*np.exp(-mu_t)\n",
    "    if decrease == 'lin':\n",
    "        mu_t = mu * max(t-T_crit, 0)\n",
    "        return max(0, beta_0-mu_t)\n",
    "    else:\n",
    "        print('No decrease of transmission rate ?')\n",
    "        return beta_0\n",
    "\n",
    "Y_init = np.array(occ_bas_rhin)[0]\n",
    "tspan = np.arange(len(occ_bas_rhin))\n",
    "  \n",
    "t = np.linspace(0,50,1000)\n",
    "\n",
    "def SIR_wo_delay(Y,t, beta_0, mu, T_crit, nu_h, nu_d, decrease):\n",
    "    beta_t = beta(beta_0, decrease, mu, T_crit, t)\n",
    "    contam = beta_t* Y\n",
    "    heal = nu_h*Y\n",
    "    death = nu_d*Y\n",
    "    return (contam -heal-death )\n",
    "\n",
    "\n",
    "\n",
    "y_mod = odeint(lambda Y,t : SIR_wo_delay(Y=Y, t=t,beta_0=beta_0, mu=mu, T_crit=T_crit, nu_h=nu_h, nu_d=nu_d, decrease=decrease), Y_init, tspan)"
   ]
  },
  {
   "cell_type": "code",
   "execution_count": 27,
   "metadata": {},
   "outputs": [
    {
     "data": {
      "text/plain": [
       "array([[  87.        ],\n",
       "       [ 117.43771597],\n",
       "       [ 158.52433608],\n",
       "       [ 213.98547368],\n",
       "       [ 288.85017717],\n",
       "       [ 389.90695907],\n",
       "       [ 526.31934107],\n",
       "       [ 710.45679973],\n",
       "       [ 959.01637065],\n",
       "       [1294.53670061],\n",
       "       [1747.44177262],\n",
       "       [2303.0047566 ],\n",
       "       [2899.59343138],\n",
       "       [3498.4164472 ],\n",
       "       [4056.47944096],\n",
       "       [4532.49236727],\n",
       "       [4892.40834111]])"
      ]
     },
     "execution_count": 27,
     "metadata": {},
     "output_type": "execute_result"
    }
   ],
   "source": [
    "y_mod"
   ]
  },
  {
   "cell_type": "code",
   "execution_count": 28,
   "metadata": {},
   "outputs": [],
   "source": [
    "###Fit parameters for one department\n",
    "\n",
    "def fitfunc(t, beta_0, mu, T_crit, nu_h, nu_d):\n",
    "    y = odeint(lambda Y,t : SIR_wo_delay(Y=Y, t=t,beta_0=beta_0, mu=mu, T_crit=T_crit, nu_h=nu_h, nu_d=nu_d, decrease=decrease), \n",
    "               Y_init, t)\n",
    "    return y[:,0]\n",
    "\n",
    "\n",
    "tspan = np.arange(len(occ_bas_rhin))\n",
    "params_fit, _ = curve_fit(fitfunc, tspan, occ_bas_rhin, bounds = (0, [1., 1., 12., 1.,1.]))"
   ]
  },
  {
   "cell_type": "code",
   "execution_count": 29,
   "metadata": {},
   "outputs": [],
   "source": [
    "beta_0, mu, T_crit, nu_h, nu_d = params_fit"
   ]
  },
  {
   "cell_type": "code",
   "execution_count": 30,
   "metadata": {},
   "outputs": [
    {
     "data": {
      "text/plain": [
       "0.3349001490255166"
      ]
     },
     "execution_count": 30,
     "metadata": {},
     "output_type": "execute_result"
    }
   ],
   "source": [
    "beta_0"
   ]
  },
  {
   "cell_type": "code",
   "execution_count": 31,
   "metadata": {},
   "outputs": [],
   "source": [
    "tspan = np.linspace(0,50,200)\n",
    "def func(t, params_fit):\n",
    "    beta_0, mu, T_crit, nu_h, nu_d = params_fit\n",
    "    return fitfunc(t, beta_0, mu, T_crit, nu_h, nu_d)\n",
    "\n",
    "y_mod=func(tspan, params_fit)"
   ]
  },
  {
   "cell_type": "code",
   "execution_count": 32,
   "metadata": {},
   "outputs": [
    {
     "data": {
      "image/png": "[encoded data removed]",
      "text/plain": [
       "<Figure size 432x288 with 1 Axes>"
      ]
     },
     "metadata": {
      "needs_background": "light"
     },
     "output_type": "display_data"
    }
   ],
   "source": [
    "plt.plot(tspan,y_mod)\n",
    "plt.scatter(range(len(np.array(occ_bas_rhin))), np.array(occ_bas_rhin), marker = \"+\", color='red')\n",
    "plt.show()"
   ]
  },
  {
   "cell_type": "code",
   "execution_count": 103,
   "metadata": {},
   "outputs": [],
   "source": [
    "### TO DO: SYSTEM OF ODES FOR DEPARTMENTS\n",
    "dep_to_fit = ['Marne', 'Haut-Rhin', 'Moselle', 'Meurthe-et-Moselle']\n",
    "\n",
    "\n",
    "n_dep = len(dep_to_fit)\n",
    "data_dep = list()\n",
    "for d in dep_to_fit:\n",
    "    dep_aux = np.array(dep.loc[dep.department==d, 'n_covid_occ'], ndmin=2)\n",
    "    data_dep.append(dep_aux)\n",
    "\n",
    "data_dep= np.nan_to_num(np.concatenate(data_dep, axis = 0)).transpose()\n",
    "##Assume same params for each dpt\n",
    "##Starting params\n",
    "beta_0=0.7\n",
    "decrease= 'exp'\n",
    "mu=0.07\n",
    "T_crit=10\n",
    "nu_h=0.2\n",
    "nu_d = 0.2\n",
    "\n"
   ]
  },
  {
   "cell_type": "code",
   "execution_count": 104,
   "metadata": {},
   "outputs": [
    {
     "data": {
      "text/plain": [
       "array([10, 66, 30, 37])"
      ]
     },
     "execution_count": 104,
     "metadata": {},
     "output_type": "execute_result"
    }
   ],
   "source": [
    "data_dep[0,:]\n"
   ]
  },
  {
   "cell_type": "code",
   "execution_count": 93,
   "metadata": {},
   "outputs": [
    {
     "data": {
      "text/plain": [
       "17"
      ]
     },
     "execution_count": 93,
     "metadata": {},
     "output_type": "execute_result"
    }
   ],
   "source": [
    "len(data_dep) "
   ]
  },
  {
   "cell_type": "code",
   "execution_count": 105,
   "metadata": {},
   "outputs": [],
   "source": [
    "\n",
    "\n",
    "\n",
    "def SIR_wo_delay(Y,t, beta_0, mu, T_crit, nu_h, nu_d, decrease):\n",
    "    beta_t = beta(beta_0, decrease, mu, T_crit, t)\n",
    "    contam = beta_t* Y\n",
    "    heal = nu_h*Y\n",
    "    death = nu_d*Y\n",
    "    return (contam -heal-death ) ###Can be a vector of size len(dep_to_fit)\n",
    "\n",
    "def beta(beta_0, decrease, mu, T_crit, t):\n",
    "    if decrease == 'exp':\n",
    "        mu_t = mu * max(t-T_crit, 0)\n",
    "        return beta_0*np.exp(-mu_t)\n",
    "    if decrease == 'lin':\n",
    "        mu_t = mu * max(t-T_crit, 0)\n",
    "        return max(0, beta_0-mu_t)\n",
    "    else:\n",
    "        print('No decrease of transmission rate ?')\n",
    "        return beta_0\n",
    "\n",
    "Y_init = data_dep[0,:]\n",
    "\n",
    "\n",
    "\n",
    "    \n",
    "def fitfunc(t, beta_0, mu, T_crit, nu_h, nu_d):\n",
    "    y = odeint(lambda Y,t : SIR_wo_delay(Y=Y, t=t,beta_0=beta_0, mu=mu, T_crit=T_crit, nu_h=nu_h, nu_d=nu_d, decrease=decrease), \n",
    "               Y_init, t)\n",
    "    #print(y)\n",
    "    #print(np.shape(y))\n",
    "    return np.sqrt(np.sum(np.square(data_dep-y), axis=1))\n",
    "\n",
    "tspan= np.arange(len(data_dep))\n",
    "\n",
    "\n",
    "\n",
    "params_fit, _ = curve_fit(fitfunc, tspan, np.zeros(len(tspan)), bounds = (0, [1., 1., 12., 1.,1.]))"
   ]
  },
  {
   "cell_type": "code",
   "execution_count": 106,
   "metadata": {},
   "outputs": [],
   "source": [
    "beta_0, mu, T_crit, nu_h, nu_d = params_fit"
   ]
  },
  {
   "cell_type": "code",
   "execution_count": 107,
   "metadata": {},
   "outputs": [],
   "source": [
    "y = odeint(lambda Y,t : SIR_wo_delay(Y=Y, t=t,beta_0=beta_0, mu=mu, T_crit=T_crit, nu_h=nu_h, nu_d=nu_d, decrease=decrease), \n",
    "               Y_init, t)"
   ]
  },
  {
   "cell_type": "code",
   "execution_count": 108,
   "metadata": {},
   "outputs": [
    {
     "data": {
      "text/plain": [
       "(1000, 4)"
      ]
     },
     "execution_count": 108,
     "metadata": {},
     "output_type": "execute_result"
    }
   ],
   "source": [
    "np.shape(y)"
   ]
  },
  {
   "cell_type": "code",
   "execution_count": 109,
   "metadata": {},
   "outputs": [
    {
     "data": {
      "text/plain": [
       "(17, 4)"
      ]
     },
     "execution_count": 109,
     "metadata": {},
     "output_type": "execute_result"
    }
   ],
   "source": [
    "np.shape(data_dep)"
   ]
  },
  {
   "cell_type": "code",
   "execution_count": 110,
   "metadata": {},
   "outputs": [
    {
     "data": {
      "text/plain": [
       "array([10, 13, 13, 15, 23, 24, 50, 63, 68, 73, 74, 82, 83, 84, 84, 94, 93])"
      ]
     },
     "execution_count": 110,
     "metadata": {},
     "output_type": "execute_result"
    }
   ],
   "source": [
    "data_dep[:,0]"
   ]
  },
  {
   "cell_type": "code",
   "execution_count": null,
   "metadata": {},
   "outputs": [],
   "source": []
  },
  {
   "cell_type": "code",
   "execution_count": 116,
   "metadata": {},
   "outputs": [
    {
     "data": {
      "image/png": "[encoded data removed]",
      "text/plain": [
       "<Figure size 1080x504 with 1 Axes>"
      ]
     },
     "metadata": {},
     "output_type": "display_data"
    }
   ],
   "source": [
    "fig = plt.figure(figsize=(15, 7))\n",
    "gs = matplotlib.gridspec.GridSpec(2, 2)\n",
    "color = {dep: matplotlib.cm.Set2(i) for i, dep in enumerate(dep_to_fit)}\n",
    "\n",
    "for i, dep in enumerate(dep_to_fit):\n",
    "    plt.plot(t, y[:,i], color = color[dep], label = dep)\n",
    "    plt.scatter(tspan, data_dep[:,i], marker = '+', color=color[dep])\n",
    "fig.legend()\n",
    "plt.savefig('all_dept.pdf')"
   ]
  },
  {
   "cell_type": "markdown",
   "metadata": {},
   "source": [
    "###Thinking about the model\n",
    "\n",
    "\n",
    "$dn_{occ}(t) = n_{occ}(t-T_{inc}) \\times \\beta(t-T_{inc}) -  d n_{death}(t) - d n_{heal}(t)$\n",
    "\n",
    "$d n_{death}(t) = \\nu_d n_{occ}(t-T_{d})$\n",
    "\n",
    "$d n_{heal}(t) = \\nu_h n_{occ}(t-T_{h})$\n",
    "\n",
    "Hence fit first $\\nu_d, T_d$ and $\\nu_h, T_h$ from data\n",
    "\n",
    "Then \n",
    "$dn_{occ}(t) = n_{occ}(t-T_{inc}) \\times \\beta(t-T_{inc}) -  \\nu_d n_{occ}(t-T_{d}) - \\nu_h n_{occ}(t-T_{h})$ with fixed params  $\\nu_d, T_d$ and $\\nu_h, T_h$."
   ]
  },
  {
   "cell_type": "code",
   "execution_count": 116,
   "metadata": {},
   "outputs": [
    {
     "data": {
      "text/plain": [
       "array([ 0.5,  1. ,  6. ,  0.5,  0.5])"
      ]
     },
     "execution_count": 116,
     "metadata": {},
     "output_type": "execute_result"
    }
   ],
   "source": [
    "params_fit"
   ]
  },
  {
   "cell_type": "code",
   "execution_count": 122,
   "metadata": {},
   "outputs": [
    {
     "data": {
      "text/plain": [
       "14"
      ]
     },
     "execution_count": 122,
     "metadata": {},
     "output_type": "execute_result"
    }
   ],
   "source": [
    "np.shape(data_dep)[1]"
   ]
  },
  {
   "cell_type": "code",
   "execution_count": null,
   "metadata": {},
   "outputs": [],
   "source": []
  },
  {
   "cell_type": "markdown",
   "metadata": {},
   "source": [
    "##DELAY DIFFERENTIAL EQUATION FOR THE MODEL"
   ]
  },
  {
   "cell_type": "code",
   "execution_count": 12,
   "metadata": {},
   "outputs": [],
   "source": [
    "###TO WORK ON : DELAY DIFFERENTIAL EQUATIONS\n",
    "\n",
    "\n",
    "params= {'T_inc' : 0,\n",
    "         'T_d' : 0,\n",
    "         'T_h' : 0,\n",
    "         'beta_0': 0.7,\n",
    "         'decrease': 'exp',\n",
    "         'mu': 0.07,\n",
    "         'T_crit': 10,\n",
    "         'nu_h':0.2,\n",
    "         'nu_d':0.2}\n",
    "\n",
    "def beta(beta_0, decrease, mu, T_crit, t):\n",
    "    if decrease == 'exp':\n",
    "        mu_t = mu * max(t-T_crit, 0)\n",
    "        return beta_0*np.exp(-mu_t)\n",
    "    if decrease == 'lin':\n",
    "        mu_t = mu * max(t-T_crit, 0)\n",
    "        return max(0, beta_0-mu_t)\n",
    "    else:\n",
    "        print('No decrease of transmission rate ?')\n",
    "        return beta_0\n",
    "\n",
    "def values_before_zero(t):\n",
    "    return 70-2*t\n",
    "    \n",
    "\n",
    "def SIR(Y,t, params):\n",
    "    Y = np.max(Y,0)\n",
    "    beta_t = beta(params['beta_0'],params['decrease'], params['mu'], params['T_crit'], t)\n",
    "    contam = beta_t* Y(t-params['T_inc'])\n",
    "    heal = params['nu_h']*Y(t-params['T_h'])\n",
    "    death = params['nu_d']*Y(t-params['T_d'])\n",
    "    return (contam -heal-death )\n",
    "         \n",
    "tmax = 1\n",
    "tt = np.linspace(0, tmax, tmax)\n",
    "         \n",
    "yy = ddeint(SIR, values_before_zero, tt, fargs = (params,))\n",
    "\n",
    "\n"
   ]
  },
  {
   "cell_type": "code",
   "execution_count": 55,
   "metadata": {},
   "outputs": [
    {
     "data": {
      "text/plain": [
       "array([ 7.00000000e+01,  9.15000000e+01,  1.13000000e+02,  1.34500000e+02,\n",
       "        1.60447123e+02,  2.08233908e+02,  2.57514096e+02,  3.06794284e+02,\n",
       "        3.56074472e+02,  4.65196107e+02,  6.04002512e+02,  7.65157907e+02,\n",
       "        9.09299412e+02,  1.06400382e+03,  1.19044356e+03,  1.30861518e+03,\n",
       "        1.38784457e+03,  1.43220701e+03,  1.43543480e+03,  1.39880406e+03,\n",
       "        1.32512116e+03,  1.22252425e+03,  1.09790741e+03,  9.50619211e+02,\n",
       "        8.04989381e+02,  6.52756959e+02,  5.15735457e+02,  3.89465092e+02,\n",
       "        2.88479945e+02,  2.10898780e+02,  1.58871665e+02,  1.06716928e+02,\n",
       "        7.20473480e+01,  4.33447262e+01,  2.43815621e+01,  1.19099633e+01,\n",
       "        3.74127412e+00,  9.38529622e-01,  6.64603027e-02, -8.22794441e-02,\n",
       "       -8.57390802e-02, -5.76149130e-02, -3.64277804e-02])"
      ]
     },
     "execution_count": 55,
     "metadata": {},
     "output_type": "execute_result"
    }
   ],
   "source": [
    "np.concatenate([np.array(yy[0], ndmin=1),np.concatenate(yy[1:])])"
   ]
  },
  {
   "cell_type": "code",
   "execution_count": 12,
   "metadata": {},
   "outputs": [],
   "source": [
    "plt.plot(tt,yy)\n",
    "plt.plot(tt[0:len(np.array(occ_bas_rhin))], np.array(occ_bas_rhin))\n",
    "plt.savefig('model2.png')"
   ]
  },
  {
   "cell_type": "code",
   "execution_count": 92,
   "metadata": {},
   "outputs": [
    {
     "data": {
      "text/plain": [
       "['beta_0', 'T_crit', 'T_d', 'nu_h', 'T_h', 'nu_d', 'T_inc', 'mu', 'decrease']"
      ]
     },
     "execution_count": 92,
     "metadata": {},
     "output_type": "execute_result"
    }
   ],
   "source": [
    "[l for l in params]"
   ]
  },
  {
   "cell_type": "code",
   "execution_count": 51,
   "metadata": {},
   "outputs": [],
   "source": [
    "tspan = np.linspace(0, 14, 14)\n",
    "data = np.array(occ_bas_rhin)\n",
    "T_inc=9\n",
    "T_d=7\n",
    "T_h=7\n",
    "beta_0=0.76578051\n",
    "decrease= 'exp'\n",
    "mu=0.07\n",
    "T_crit=7\n",
    "nu_h=0.25600226\n",
    "nu_d=0.42394311\n",
    "T_init = 5\n",
    "\n",
    "def SIR2(Y,t, beta_0, decrease, mu, T_crit, nu_h,nu_d ):\n",
    "    Y = np.max(Y,0)\n",
    "    beta_t = beta(beta_0, decrease, mu, T_crit, t)\n",
    "    contam = beta_t* np.max(Y(t-T_inc),0)\n",
    "    heal = nu_h*np.max(Y(t-T_h),0)\n",
    "    death = nu_d*np.max(Y(t-T_d),0)\n",
    "    return (contam -heal-death )\n",
    "\n",
    "def values_before_zero(t):\n",
    "    return 70-2*t\n",
    "    \n"
   ]
  },
  {
   "cell_type": "code",
   "execution_count": 52,
   "metadata": {},
   "outputs": [],
   "source": [
    "def fitfunc(t, beta_0, mu, T_crit, nu_h, nu_d):\n",
    "    y = ddeint(lambda Y,t : SIR2(Y=Y, t=t,beta_0=beta_0, mu=mu, T_crit=T_crit, nu_h=nu_h, nu_d=nu_d, decrease=decrease), \n",
    "               values_before_zero, t)\n",
    "    return np.concatenate([np.array(y[0], ndmin=1),np.concatenate(y[1:])])\n",
    "\n",
    "\n",
    "tspan = np.arange(len(occ_bas_rhin))\n",
    "params_fit, _ = curve_fit(fitfunc, tspan, occ_bas_rhin, bounds = (0, [1., 1., 12., 1.,1.]))"
   ]
  },
  {
   "cell_type": "code",
   "execution_count": 53,
   "metadata": {},
   "outputs": [
    {
     "data": {
      "text/plain": [
       "array([ 0.75108068,  0.19524008, 10.08767549,  0.34434686,  0.34352639])"
      ]
     },
     "execution_count": 53,
     "metadata": {},
     "output_type": "execute_result"
    }
   ],
   "source": [
    "params_fit"
   ]
  },
  {
   "cell_type": "code",
   "execution_count": 31,
   "metadata": {},
   "outputs": [],
   "source": [
    "#fitfunc(t,0.73006232, 0.11837316, 8.68094372, 0.33414977, 0.24531347)"
   ]
  },
  {
   "cell_type": "code",
   "execution_count": 65,
   "metadata": {},
   "outputs": [],
   "source": [
    "t = np.linspace(0,20,50)\n",
    "yy = fitfunc(t, 0.75108068,  0.19524008, 10.08767549,  0.34434686,  0.34352639)"
   ]
  },
  {
   "cell_type": "code",
   "execution_count": 66,
   "metadata": {},
   "outputs": [
    {
     "data": {
      "text/plain": [
       "array([  70.        ,   73.38280087,   76.74457638,   80.08529151,\n",
       "         83.40494628,   86.70354068,   89.98107472,   93.23754838,\n",
       "         96.47296168,   99.6873146 ,  102.88060716,  106.05283935,\n",
       "        109.20401118,  112.33412263,  115.44317372,  118.53116444,\n",
       "        121.59809479,  124.64396477,  127.242797  ,  128.65715523,\n",
       "        128.87947275,  127.91561083,  125.77171194,  123.03413582,\n",
       "        120.4108466 ,  117.82449984,  113.91459731,  108.18546603,\n",
       "        100.64069619,   91.29005172,   80.14846215,   67.23522169,\n",
       "         52.57343438,   36.18889198,   18.10966608,   -1.59084233,\n",
       "        -22.68815609,  -44.82446415,  -67.63862942,  -90.77025295,\n",
       "       -113.93693852, -137.07788144, -160.26838366, -183.41427752,\n",
       "       -206.11525019, -227.8485481 , -248.04799051, -266.13401571,\n",
       "       -281.56951974, -293.86892209])"
      ]
     },
     "execution_count": 66,
     "metadata": {},
     "output_type": "execute_result"
    }
   ],
   "source": [
    "yy"
   ]
  },
  {
   "cell_type": "code",
   "execution_count": 69,
   "metadata": {},
   "outputs": [],
   "source": [
    "plt.plot(t, yy)\n",
    "plt.plot(tspan, fitfunc(tspan, 0.75108068,  0.19524008, 10.08767549,  0.34434686,  0.34352639))\n",
    "plt.scatter(tspan, occ_bas_rhin, marker='+')\n",
    "plt.savefig('model2_fit.pdf')\n",
    "plt.close()"
   ]
  }
 ],
 "metadata": {
  "kernelspec": {
   "display_name": "Python 3",
   "language": "python",
   "name": "python3"
  },
  "language_info": {
   "codemirror_mode": {
    "name": "ipython",
    "version": 3
   },
   "file_extension": ".py",
   "mimetype": "text/x-python",
   "name": "python",
   "nbconvert_exporter": "python",
   "pygments_lexer": "ipython3",
   "version": "3.7.7"
  }
 },
 "nbformat": 4,
 "nbformat_minor": 4
}
